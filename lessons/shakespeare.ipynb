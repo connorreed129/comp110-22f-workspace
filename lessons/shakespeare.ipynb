{
 "cells": [
  {
   "cell_type": "markdown",
   "metadata": {},
   "source": [
    "# Quantifying Shakespeare\n",
    "\n",
    "In this notebook we will:\n",
    "1. Read all of shakespeare's works into a list of strings\n",
    "2. count the frequencies of leters used \n",
    "3. visualize the results of the frequencies\n",
    "\n",
    "The data set we will use is <https://bit.ly/shakespeare-txt>"
   ]
  },
  {
   "cell_type": "code",
   "execution_count": null,
   "metadata": {},
   "outputs": [],
   "source": [
    "# Read the lines into a list\n",
    "\n",
    "from io import TextIOWrapper \n",
    "\n",
    "def read_lines(filename: str) -> list[str]:\n",
    "    \"\"\"Read every line from filename into a list.\"\"\"\n",
    "    lines: list[str] = []\n",
    "    file_handle: TextIOWrapper = open(filename, \"r\")\n",
    "    for line in file_handle:\n",
    "        line = line.lower()\n",
    "        line = line.strip()\n",
    "        lines.append(line)\n",
    "    file_handle.close()\n",
    "    return lines\n",
    "\n",
    "shakespeare_lines: list[str] = read_lines(\"./shakespeare.txt\")\n",
    "print(len(shakespeare_lines))\n"
   ]
  },
  {
   "cell_type": "code",
   "execution_count": null,
   "metadata": {},
   "outputs": [],
   "source": [
    "# Tally up characters\n",
    "\n",
    "# Goal: define a function named 'tally'\n",
    "# It will take two parameters\n",
    "# 1. A reference to a dictionary whose keys are str and int\n",
    "# 2. A str that refers to a key in the dictionary you are tallying \n",
    "# Logic:\n",
    "# if the str/ key is in the dictionary, increase its value by one\n",
    "#otherwise, set the key's value to 1 in the dictionary\n",
    "# this function returns nothing\n",
    "\n",
    "def tally(counts: dict[str, int], key: str) -> None:\n",
    "    \"\"\"counts how many times a str is in a dictionary\"\"\"\n",
    "    if key in counts:\n",
    "        counts[key] += 1\n",
    "    else: \n",
    "        counts[key] = 1\n",
    "    return None\n",
    "\n",
    "\n",
    "def count_letters(lines: list[str]) -> dict[str, int]:\n",
    "    \"\"\"Count the frequencies of all letters in lines.\"\"\"\n",
    "    counts: dict[str, int] = {}\n",
    "    # TODO: for each line in lines\n",
    "    # loop through each character in the line\n",
    "    # tally that character into counts using the tally function\n",
    "    # Challenge: Only tally A-Z characters \n",
    "    for line in lines:\n",
    "        for char in line:\n",
    "            if char.isalpha():\n",
    "                tally(counts, char)\n",
    "    return counts \n",
    "\n",
    "\n",
    "\n",
    "shakespeare_letters: dict[str, int] = count_letters(shakespeare_lines)\n",
    "print(shakespeare_letters)"
   ]
  },
  {
   "cell_type": "code",
   "execution_count": 12,
   "metadata": {},
   "outputs": [
    {
     "name": "stdout",
     "output_type": "stream",
     "text": [
      "{'a': 289150, 'b': 61956, 'c': 88185, 'd': 149462, 'e': 447204, 'f': 80516, 'g': 68199, 'h': 236868, 'i': 253990, 'j': 4779, 'k': 35408, 'l': 170019, 'm': 111452, 'n': 243262, 'o': 314600, 'p': 58464, 'q': 3582, 'r': 237864, 's': 248989, 't': 329775, 'u': 128947, 'v': 37569, 'w': 89390, 'x': 5294, 'y': 94370, 'z': 1631}\n"
     ]
    }
   ],
   "source": [
    "items_in_dict: list[tuple[str, int]]= list(shakespeare_letters.items())\n",
    "items_in_dict = sorted(items_in_dict)\n",
    "shakespeare_letters_sorted: dict[str, int] = dict(items_in_dict)\n",
    "print(shakespeare_letters_sorted)"
   ]
  },
  {
   "cell_type": "code",
   "execution_count": null,
   "metadata": {},
   "outputs": [],
   "source": [
    "# Make a bar chart\n",
    "\n",
    "from matplotlib import pyplot \n",
    "\n",
    "pyplot.title(\"Frequencies of letters\")\n",
    "pyplot.xlabel(\"Letters\")\n",
    "pyplot.ylabel(\"Frequencies\")\n",
    "labels: list[str] = list(shakespeare_letters.keys())\n",
    "values: list[int] = list(shakespeare_letters.values())\n",
    "pyplot.barchart(labels, values)"
   ]
  }
 ],
 "metadata": {
  "kernelspec": {
   "display_name": "Python 3.10.6 64-bit",
   "language": "python",
   "name": "python3"
  },
  "language_info": {
   "codemirror_mode": {
    "name": "ipython",
    "version": 3
   },
   "file_extension": ".py",
   "mimetype": "text/x-python",
   "name": "python",
   "nbconvert_exporter": "python",
   "pygments_lexer": "ipython3",
   "version": "3.10.6"
  },
  "orig_nbformat": 4,
  "vscode": {
   "interpreter": {
    "hash": "aee8b7b246df8f9039afb4144a1f6fd8d2ca17a180786b69acc140d282b71a49"
   }
  }
 },
 "nbformat": 4,
 "nbformat_minor": 2
}
